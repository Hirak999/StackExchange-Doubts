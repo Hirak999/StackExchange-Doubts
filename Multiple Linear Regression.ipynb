{
 "cells": [
  {
   "cell_type": "code",
   "execution_count": 15,
   "metadata": {},
   "outputs": [
    {
     "data": {
      "text/html": [
       "<div>\n",
       "<style scoped>\n",
       "    .dataframe tbody tr th:only-of-type {\n",
       "        vertical-align: middle;\n",
       "    }\n",
       "\n",
       "    .dataframe tbody tr th {\n",
       "        vertical-align: top;\n",
       "    }\n",
       "\n",
       "    .dataframe thead th {\n",
       "        text-align: right;\n",
       "    }\n",
       "</style>\n",
       "<table border=\"1\" class=\"dataframe\">\n",
       "  <thead>\n",
       "    <tr style=\"text-align: right;\">\n",
       "      <th></th>\n",
       "      <th>R&amp;D Spend</th>\n",
       "      <th>Administration</th>\n",
       "      <th>Marketing Spend</th>\n",
       "      <th>State</th>\n",
       "      <th>Profit</th>\n",
       "    </tr>\n",
       "  </thead>\n",
       "  <tbody>\n",
       "    <tr>\n",
       "      <th>0</th>\n",
       "      <td>165349.20</td>\n",
       "      <td>136897.80</td>\n",
       "      <td>471784.10</td>\n",
       "      <td>New York</td>\n",
       "      <td>192261.83</td>\n",
       "    </tr>\n",
       "    <tr>\n",
       "      <th>1</th>\n",
       "      <td>162597.70</td>\n",
       "      <td>151377.59</td>\n",
       "      <td>443898.53</td>\n",
       "      <td>California</td>\n",
       "      <td>191792.06</td>\n",
       "    </tr>\n",
       "    <tr>\n",
       "      <th>2</th>\n",
       "      <td>153441.51</td>\n",
       "      <td>101145.55</td>\n",
       "      <td>407934.54</td>\n",
       "      <td>Florida</td>\n",
       "      <td>191050.39</td>\n",
       "    </tr>\n",
       "    <tr>\n",
       "      <th>3</th>\n",
       "      <td>144372.41</td>\n",
       "      <td>118671.85</td>\n",
       "      <td>383199.62</td>\n",
       "      <td>New York</td>\n",
       "      <td>182901.99</td>\n",
       "    </tr>\n",
       "    <tr>\n",
       "      <th>4</th>\n",
       "      <td>142107.34</td>\n",
       "      <td>91391.77</td>\n",
       "      <td>366168.42</td>\n",
       "      <td>Florida</td>\n",
       "      <td>166187.94</td>\n",
       "    </tr>\n",
       "  </tbody>\n",
       "</table>\n",
       "</div>"
      ],
      "text/plain": [
       "   R&D Spend  Administration  Marketing Spend       State     Profit\n",
       "0  165349.20       136897.80        471784.10    New York  192261.83\n",
       "1  162597.70       151377.59        443898.53  California  191792.06\n",
       "2  153441.51       101145.55        407934.54     Florida  191050.39\n",
       "3  144372.41       118671.85        383199.62    New York  182901.99\n",
       "4  142107.34        91391.77        366168.42     Florida  166187.94"
      ]
     },
     "execution_count": 15,
     "metadata": {},
     "output_type": "execute_result"
    }
   ],
   "source": [
    "from numpy import *\n",
    "from matplotlib import *\n",
    "from pandas import *\n",
    "import matplotlib.pyplot as plt\n",
    "\n",
    "var=read_csv(r\"C:\\Users\\Hirak\\Desktop\\Machine Learning A-Z\\Part 2 - Regression\\Section 5 - Multiple Linear Regression\\50_Startups.csv\")\n",
    "var.head()"
   ]
  },
  {
   "cell_type": "code",
   "execution_count": 16,
   "metadata": {},
   "outputs": [
    {
     "name": "stderr",
     "output_type": "stream",
     "text": [
      "M:\\anacode\\lib\\site-packages\\sklearn\\preprocessing\\_encoders.py:368: FutureWarning: The handling of integer data will change in version 0.22. Currently, the categories are determined based on the range [0, max(values)], while in the future they will be determined based on the unique values.\n",
      "If you want the future behaviour and silence this warning, you can specify \"categories='auto'\".\n",
      "In case you used a LabelEncoder before this OneHotEncoder to convert the categories to integers, then you can now use the OneHotEncoder directly.\n",
      "  warnings.warn(msg, FutureWarning)\n",
      "M:\\anacode\\lib\\site-packages\\sklearn\\preprocessing\\_encoders.py:390: DeprecationWarning: The 'categorical_features' keyword is deprecated in version 0.20 and will be removed in 0.22. You can use the ColumnTransformer instead.\n",
      "  \"use the ColumnTransformer instead.\", DeprecationWarning)\n"
     ]
    }
   ],
   "source": [
    "#now we will split the data into train set and test set\n",
    "\n",
    "X=var.iloc[:, :-1].values  \n",
    "Y=var.iloc[:,4:5].values\n",
    "\n",
    "#now see that state is a categorical variable, so we need to Label Encode them first and then One Hot Encode it\n",
    "\n",
    "# 1. Label encodiing\n",
    "\n",
    "from sklearn.preprocessing import LabelEncoder\n",
    "le_X=LabelEncoder() \n",
    "    \n",
    "X[:,3]=le_X.fit_transform(X[:,3]) \n",
    "\n",
    "\n",
    "# 2.Dummy variable i.e. One Hot Encoding\n",
    "\n",
    "from sklearn.preprocessing import OneHotEncoder\n",
    "\n",
    "OHE_object=OneHotEncoder(categorical_features = [3]) #[0] refers to the column which we want to OneHotEncode\n",
    "\n",
    "X=OHE_object.fit_transform(X).toarray()\n",
    "\n"
   ]
  },
  {
   "cell_type": "code",
   "execution_count": 17,
   "metadata": {},
   "outputs": [
    {
     "name": "stdout",
     "output_type": "stream",
     "text": [
      "[[     0      0      1 165349 136897 471784]\n",
      " [     1      0      0 162597 151377 443898]\n",
      " [     0      1      0 153441 101145 407934]\n",
      " [     0      0      1 144372 118671 383199]\n",
      " [     0      1      0 142107  91391 366168]\n",
      " [     0      0      1 131876  99814 362861]\n",
      " [     1      0      0 134615 147198 127716]\n",
      " [     0      1      0 130298 145530 323876]\n",
      " [     0      0      1 120542 148718 311613]\n",
      " [     1      0      0 123334 108679 304981]\n",
      " [     0      1      0 101913 110594 229160]\n",
      " [     1      0      0 100671  91790 249744]\n",
      " [     0      1      0  93863 127320 249839]\n",
      " [     1      0      0  91992 135495 252664]\n",
      " [     0      1      0 119943 156547 256512]\n",
      " [     0      0      1 114523 122616 261776]\n",
      " [     1      0      0  78013 121597 264346]\n",
      " [     0      0      1  94657 145077 282574]\n",
      " [     0      1      0  91749 114175 294919]\n",
      " [     0      0      1  86419 153514      0]\n",
      " [     1      0      0  76253 113867 298664]\n",
      " [     0      0      1  78389 153773 299737]\n",
      " [     0      1      0  73994 122782 303319]\n",
      " [     0      1      0  67532 105751 304768]\n",
      " [     0      0      1  77044  99281 140574]\n",
      " [     1      0      0  64664 139553 137962]\n",
      " [     0      1      0  75328 144135 134050]\n",
      " [     0      0      1  72107 127864 353183]\n",
      " [     0      1      0  66051 182645 118148]\n",
      " [     0      0      1  65605 153032 107138]\n",
      " [     0      1      0  61994 115641  91131]\n",
      " [     0      0      1  61136 152701  88218]\n",
      " [     1      0      0  63408 129219  46085]\n",
      " [     0      1      0  55493 103057 214634]\n",
      " [     1      0      0  46426 157693 210797]\n",
      " [     0      0      1  46014  85047 205517]\n",
      " [     0      1      0  28663 127056 201126]\n",
      " [     1      0      0  44069  51283 197029]\n",
      " [     0      0      1  20229  65947 185265]\n",
      " [     1      0      0  38558  82982 174999]\n",
      " [     1      0      0  28754 118546 172795]\n",
      " [     0      1      0  27892  84710 164470]\n",
      " [     1      0      0  23640  96189 148001]\n",
      " [     0      0      1  15505 127382  35534]\n",
      " [     1      0      0  22177 154806  28334]\n",
      " [     0      0      1   1000 124153   1903]\n",
      " [     0      1      0   1315 115816 297114]\n",
      " [     1      0      0      0 135426      0]\n",
      " [     0      0      1    542  51743      0]\n",
      " [     1      0      0      0 116983  45173]]\n"
     ]
    }
   ],
   "source": [
    "print(X.astype(int))"
   ]
  },
  {
   "cell_type": "code",
   "execution_count": 18,
   "metadata": {},
   "outputs": [],
   "source": [
    "# though Linear Regression library has inbuilt DUmmy Variable trap removal feature, but we will still learn it since\n",
    "# there are some libraries where we have to do it manually.\n",
    "\n",
    "\n",
    "# X=X[:,1:] #this means take all rows and all columns starting from index 1\n",
    "\n",
    "# print(X.astype(int)) #see that we have removed the first column\n"
   ]
  },
  {
   "cell_type": "code",
   "execution_count": 19,
   "metadata": {},
   "outputs": [],
   "source": [
    "#Now we will do the train test split\n",
    "\n",
    "from sklearn.model_selection import train_test_split as tts\n",
    "\n",
    "X_train,X_test,Y_train,Y_test= tts (X,Y,test_size=0.2,random_state=0) \n"
   ]
  },
  {
   "cell_type": "code",
   "execution_count": 20,
   "metadata": {},
   "outputs": [
    {
     "data": {
      "text/plain": [
       "array([[-0.81649658,  1.73205081, -0.73379939, -0.35006454, -0.78547109,\n",
       "         0.1011968 ],\n",
       "       [-0.81649658, -0.57735027,  1.36277029, -0.55530319, -1.48117426,\n",
       "         0.02734979],\n",
       "       [-0.81649658,  1.73205081, -0.73379939,  0.07935762,  0.80133381,\n",
       "        -0.55152132],\n",
       "       [ 1.22474487, -0.57735027, -0.73379939, -0.54638238,  1.32505817,\n",
       "         0.07011684],\n",
       "       [-0.81649658,  1.73205081, -0.73379939,  0.43485371, -0.35598663,\n",
       "         0.75148516],\n",
       "       [-0.81649658,  1.73205081, -0.73379939,  1.26943143,  0.85518519,\n",
       "         0.98603118],\n",
       "       [-0.81649658,  1.73205081, -0.73379939,  1.04525007,  1.28077047,\n",
       "         0.4404    ],\n",
       "       [-0.81649658, -0.57735027,  1.36277029, -1.529843  ,  0.02942065,\n",
       "        -1.6218751 ],\n",
       "       [-0.81649658, -0.57735027,  1.36277029, -1.53976251, -2.76767264,\n",
       "        -1.6372965 ],\n",
       "       [-0.81649658, -0.57735027,  1.36277029, -0.13115188,  1.14497701,\n",
       "        -0.76949991],\n",
       "       [-0.81649658, -0.57735027,  1.36277029,  0.92791613, -0.02992062,\n",
       "         0.48303162],\n",
       "       [-0.81649658,  1.73205081, -0.73379939, -0.20932933, -0.2993768 ,\n",
       "        -0.89915412],\n",
       "       [ 1.22474487, -0.57735027, -0.73379939, -0.17870828,  0.2251352 ,\n",
       "        -1.26401642],\n",
       "       [ 1.22474487, -0.57735027, -0.73379939,  0.1374709 , -0.06929437,\n",
       "         0.50384666],\n",
       "       [ 1.22474487, -0.57735027, -0.73379939, -1.03967624, -1.05076697,\n",
       "        -0.43852106],\n",
       "       [ 1.22474487, -0.57735027, -0.73379939,  0.09938348, -0.36790317,\n",
       "         0.781818  ],\n",
       "       [-0.81649658, -0.57735027,  1.36277029, -1.21580174,  0.15416247,\n",
       "        -1.34947778],\n",
       "       [-0.81649658, -0.57735027,  1.36277029,  1.05822437,  0.97836757,\n",
       "         0.88670051],\n",
       "       [ 1.22474487, -0.57735027, -0.73379939,  0.4401196 ,  0.46754749,\n",
       "         0.40923215],\n",
       "       [ 1.22474487, -0.57735027, -0.73379939, -0.15151937,  0.62430586,\n",
       "        -0.51983056],\n",
       "       [-0.81649658, -0.57735027,  1.36277029,  1.30361149, -0.91073517,\n",
       "         1.30179825],\n",
       "       [-0.81649658, -0.57735027,  1.36277029,  0.49781135,  0.83770651,\n",
       "         0.65149135],\n",
       "       [ 1.22474487, -0.57735027, -0.73379939, -0.92897212, -0.18716957,\n",
       "        -0.23769075],\n",
       "       [ 1.22474487, -0.57735027, -0.73379939, -1.55149779, -0.24751712,\n",
       "        -1.27140496],\n",
       "       [ 1.22474487, -0.57735027, -0.73379939,  1.96871085,  1.08106713,\n",
       "         1.95818096],\n",
       "       [-0.81649658,  1.73205081, -0.73379939,  0.48063418,  0.15177059,\n",
       "         0.38634632],\n",
       "       [ 1.22474487, -0.57735027, -0.73379939, -0.59739193, -2.78544219,\n",
       "        -0.04140287],\n",
       "       [-0.81649658, -0.57735027,  1.36277029,  0.11649007, -0.93133851,\n",
       "        -0.49867241],\n",
       "       [ 1.22474487, -0.57735027, -0.73379939,  1.36290079,  0.91964899,\n",
       "        -0.60281921],\n",
       "       [-0.81649658,  1.73205081, -0.73379939, -0.08943162, -0.68142339,\n",
       "         0.83126112],\n",
       "       [-0.81649658,  1.73205081, -0.73379939, -0.93093295,  0.14156607,\n",
       "        -0.00821485],\n",
       "       [-0.81649658, -0.57735027,  1.36277029,  0.14561902,  1.1736151 ,\n",
       "         0.7905076 ],\n",
       "       [-0.81649658, -0.57735027,  1.36277029,  0.31947194,  1.16359793,\n",
       "        -1.6372965 ],\n",
       "       [ 1.22474487, -0.57735027, -0.73379939,  1.11867842, -0.56831342,\n",
       "         0.83298548],\n",
       "       [ 1.22474487, -0.57735027, -0.73379939, -0.71671353, -1.56095586,\n",
       "        -0.21984184],\n",
       "       [-0.81649658,  1.73205081, -0.73379939, -1.52301833, -0.29261949,\n",
       "         0.76926327],\n",
       "       [-0.81649658, -0.57735027,  1.36277029,  1.57413686, -0.18231009,\n",
       "         1.46653355],\n",
       "       [-0.81649658, -0.57735027,  1.36277029,  2.02828029,  0.52173299,\n",
       "         2.18404776],\n",
       "       [ 1.22474487, -0.57735027, -0.73379939, -1.55149779,  0.46491495,\n",
       "        -1.6372965 ],\n",
       "       [ 1.22474487, -0.57735027, -0.73379939, -1.07135402,  1.21350725,\n",
       "        -1.40779169]])"
      ]
     },
     "execution_count": 20,
     "metadata": {},
     "output_type": "execute_result"
    }
   ],
   "source": [
    "# Feature scalling is performed.\n",
    "\n",
    "#We can also skip this step here as we have only a single feature here. Feature scaling is useful\n",
    "# when we have multiple features, so that they lie on the same scale\n",
    "\n",
    "from sklearn.preprocessing import StandardScaler as SC  #we are using standardization\n",
    "sc_X=SC()\n",
    "\n",
    "X_train=sc_X.fit_transform(X_train)\n",
    "X_test=sc_X.fit_transform(X_test)\n",
    "\n",
    "'''''\n",
    "Y_train=sc_X.fit_transform(Y_train)\n",
    "Y_test=sc_X.fit_transform(Y_test)\n",
    "'''''\n",
    "\n",
    "\n",
    "X_train"
   ]
  },
  {
   "cell_type": "markdown",
   "metadata": {},
   "source": [
    "Our Equation will look like this **y = m_1 x_1 +m_2 x_2 + m_3 x_3 + m_4 x_4 + m_5 x_5 + m_6 x_6 + c**"
   ]
  },
  {
   "cell_type": "markdown",
   "metadata": {},
   "source": [
    "#### Applying Gradient Descent\n",
    "\n",
    "Now we will use the gradient descent algorithm on this multiple linear regression"
   ]
  },
  {
   "cell_type": "code",
   "execution_count": 22,
   "metadata": {},
   "outputs": [
    {
     "data": {
      "text/plain": [
       "[<matplotlib.lines.Line2D at 0x1b5d3240cc0>]"
      ]
     },
     "execution_count": 22,
     "metadata": {},
     "output_type": "execute_result"
    },
    {
     "data": {
      "image/png": "[encoded data removed]",
      "text/plain": [
       "<Figure size 432x288 with 1 Axes>"
      ]
     },
     "metadata": {
      "needs_background": "light"
     },
     "output_type": "display_data"
    }
   ],
   "source": [
    "#building the model\n",
    "\n",
    "#lets start with a random value of m and c\n",
    "\n",
    "m_1=0\n",
    "m_2=0\n",
    "m_3=0\n",
    "m_4=0\n",
    "m_5=0\n",
    "m_6=0\n",
    "\n",
    "c=0\n",
    "\n",
    "l=0.0001 #l is the learning rate\n",
    "\n",
    "\n",
    "\n",
    "n=float(len(X_train)) # n=number of training data, we are converting it to float since we will need to divide n\n",
    "\n",
    "mse=[]  #we are creating a list for storing mean square errors for each iteration so that we can plot it\n",
    "\n",
    "for i in range (0,20000):\n",
    "    Y_pred=m_1*X_train[:,0:1]+m_2*X_train[:,1:2]+m_3*X_train[:,2:3]+m_4*X_train[:,3:4]+m_5*X_train[:,4:5]+m_6*X_train[:,5:6]+c\n",
    "    \n",
    "    mse.append(numpy.sum((Y_pred-Y_train)**2)/n)\n",
    "    D_m_1= (2/n) * sum(X_train[:,0:1]*(Y_pred-Y_train))\n",
    "    D_m_2= (2/n) * sum(X_train[:,1:2]*(Y_pred-Y_train))\n",
    "    D_m_3= (2/n) * sum(X_train[:,2:3]*(Y_pred-Y_train))\n",
    "    D_m_4= (2/n) * sum(X_train[:,3:4]*(Y_pred-Y_train))\n",
    "    D_m_5= (2/n) * sum(X_train[:,4:5]*(Y_pred-Y_train))\n",
    "    D_m_6= (2/n) * sum(X_train[:,5:6]*(Y_pred-Y_train))\n",
    "    D_c= (2/n) * sum(Y_pred-Y_train)\n",
    "    \n",
    "    #Andrew Ng has not taken 2/n but instead 1/n as his cost function is multiplied by 1/2 to reduce complexity\n",
    "    \n",
    "    m_1=m_1-l*D_m_1\n",
    "    m_2=m_2-l*D_m_2\n",
    "    m_3=m_3-l*D_m_3\n",
    "    m_4=m_4-l*D_m_4\n",
    "    m_5=m_5-l*D_m_5\n",
    "    m_6=m_6-l*D_m_6\n",
    "    c=c-l*D_c\n",
    "   \n",
    " \n",
    "    \n",
    "plt.plot(mse)\n",
    "\n",
    "#see the plot below, we can see the point where MSE stabilises. Run the above loop till that point and take MSE\n",
    "    "
   ]
  },
  {
   "cell_type": "code",
   "execution_count": 23,
   "metadata": {},
   "outputs": [],
   "source": [
    "Y_pred_test=m_1*X_test[:,0:1]+m_2*X_test[:,1:2]+m_3*X_test[:,2:3]+m_4*X_test[:,3:4]+m_5*X_test[:,4:5]+m_6*X_test[:,5:6]+c"
   ]
  },
  {
   "cell_type": "code",
   "execution_count": 24,
   "metadata": {},
   "outputs": [
    {
     "data": {
      "text/plain": [
       "array([[ 88402.91449591],\n",
       "       [119289.17187943],\n",
       "       [117553.75703537],\n",
       "       [ 56628.00902773],\n",
       "       [170937.90249187],\n",
       "       [116352.31728574],\n",
       "       [ 56620.46281408],\n",
       "       [ 83967.08233671],\n",
       "       [106927.69975027],\n",
       "       [157747.35711984]])"
      ]
     },
     "execution_count": 24,
     "metadata": {},
     "output_type": "execute_result"
    }
   ],
   "source": [
    "Y_pred_test"
   ]
  },
  {
   "cell_type": "code",
   "execution_count": 25,
   "metadata": {},
   "outputs": [
    {
     "data": {
      "text/plain": [
       "array([[103282.38],\n",
       "       [144259.4 ],\n",
       "       [146121.95],\n",
       "       [ 77798.83],\n",
       "       [191050.39],\n",
       "       [105008.31],\n",
       "       [ 81229.06],\n",
       "       [ 97483.56],\n",
       "       [110352.25],\n",
       "       [166187.94]])"
      ]
     },
     "execution_count": 25,
     "metadata": {},
     "output_type": "execute_result"
    }
   ],
   "source": [
    "Y_test"
   ]
  },
  {
   "cell_type": "code",
   "execution_count": null,
   "metadata": {},
   "outputs": [],
   "source": []
  }
 ],
 "metadata": {
  "kernelspec": {
   "display_name": "Python 3",
   "language": "python",
   "name": "python3"
  },
  "language_info": {
   "codemirror_mode": {
    "name": "ipython",
    "version": 3
   },
   "file_extension": ".py",
   "mimetype": "text/x-python",
   "name": "python",
   "nbconvert_exporter": "python",
   "pygments_lexer": "ipython3",
   "version": "3.7.1"
  }
 },
 "nbformat": 4,
 "nbformat_minor": 2
}
